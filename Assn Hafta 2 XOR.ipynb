{
 "cells": [
  {
   "cell_type": "code",
   "execution_count": 4,
   "metadata": {},
   "outputs": [
    {
     "name": "stdout",
     "output_type": "stream",
     "text": [
      "(4, 2)\n",
      "(4, 1)\n"
     ]
    }
   ],
   "source": [
    "import numpy as np\n",
    "import pandas as pd\n",
    "import matplotlib.pyplot as plt\n",
    "\n",
    "x = np.array([[0,0], [0,1],[1,0],[1,1]])\n",
    "y = np.array([0,1,1,0]).reshape(-1,1)\n",
    "lr= 0.1\n",
    "\n",
    "weights1 = np.random.random((2,4))\n",
    "weights2 = np.random.random((4,1))\n",
    "\n",
    "def sigmoid(x):\n",
    "    return (1/(1+np.exp(-x)))\n",
    "\n",
    "def turev(x):\n",
    "    return x*(1-x)\n",
    "\n",
    "print(x.shape)\n",
    "print(y.shape)"
   ]
  },
  {
   "cell_type": "code",
   "execution_count": 7,
   "metadata": {},
   "outputs": [
    {
     "name": "stdout",
     "output_type": "stream",
     "text": [
      "tahmini sonuc:\n",
      " [[0]\n",
      " [1]\n",
      " [1]\n",
      " [0]], \n",
      " weights1:\n",
      " [[ 5.02462735  1.63513538 -2.88100752  5.0449393 ]\n",
      " [ 5.06654432 -1.02451421  5.74737342 -2.48412866]], \n",
      " weights2 :\n",
      " [[10.93256961]\n",
      " [-2.80862267]\n",
      " [-7.10397348]\n",
      " [-5.61795701]]\n"
     ]
    }
   ],
   "source": [
    "for i in range(10000):\n",
    "    #feed forward\n",
    "    z1 = np.dot(x,weights1)\n",
    "    a1 = sigmoid(z1)\n",
    "    z2 = np.dot(a1,weights2)\n",
    "    a2 = sigmoid(z2)\n",
    "    \n",
    "    #loss\n",
    "    hata = y - a2\n",
    "    \n",
    "    # back propagation\n",
    "    da2 = hata * turev(a2)\n",
    "    l1error  = da2.dot(weights2.T)\n",
    "    da1 = l1error *turev(a1)\n",
    "    \n",
    "    #updating weights\n",
    "    weights2 += lr * np.dot(a1.T, da2)\n",
    "    weights1 += lr * np.dot(x.T,da1)\n",
    "\n",
    "print(f\"tahmini sonuc:\\n {(a2>0.5).astype(int)}, \\n weights1:\\n {weights1}, \\n weights2 :\\n {weights2}\")"
   ]
  },
  {
   "cell_type": "code",
   "execution_count": 8,
   "metadata": {},
   "outputs": [
    {
     "data": {
      "text/html": [
       "<div>\n",
       "<style scoped>\n",
       "    .dataframe tbody tr th:only-of-type {\n",
       "        vertical-align: middle;\n",
       "    }\n",
       "\n",
       "    .dataframe tbody tr th {\n",
       "        vertical-align: top;\n",
       "    }\n",
       "\n",
       "    .dataframe thead th {\n",
       "        text-align: right;\n",
       "    }\n",
       "</style>\n",
       "<table border=\"1\" class=\"dataframe\">\n",
       "  <thead>\n",
       "    <tr style=\"text-align: right;\">\n",
       "      <th></th>\n",
       "      <th>a2</th>\n",
       "      <th>a2.</th>\n",
       "      <th>y</th>\n",
       "    </tr>\n",
       "  </thead>\n",
       "  <tbody>\n",
       "    <tr>\n",
       "      <th>0</th>\n",
       "      <td>0.09</td>\n",
       "      <td>0</td>\n",
       "      <td>0</td>\n",
       "    </tr>\n",
       "    <tr>\n",
       "      <th>1</th>\n",
       "      <td>0.93</td>\n",
       "      <td>1</td>\n",
       "      <td>1</td>\n",
       "    </tr>\n",
       "    <tr>\n",
       "      <th>2</th>\n",
       "      <td>0.93</td>\n",
       "      <td>1</td>\n",
       "      <td>1</td>\n",
       "    </tr>\n",
       "    <tr>\n",
       "      <th>3</th>\n",
       "      <td>0.06</td>\n",
       "      <td>0</td>\n",
       "      <td>0</td>\n",
       "    </tr>\n",
       "  </tbody>\n",
       "</table>\n",
       "</div>"
      ],
      "text/plain": [
       "     a2  a2.  y\n",
       "0  0.09    0  0\n",
       "1  0.93    1  1\n",
       "2  0.93    1  1\n",
       "3  0.06    0  0"
      ]
     },
     "execution_count": 8,
     "metadata": {},
     "output_type": "execute_result"
    }
   ],
   "source": [
    "df = pd.DataFrame(y)\n",
    "df[\"a2\"] = a2.round(2)\n",
    "df[\"a2.\"] = (a2>0.5).astype(int)\n",
    "df[\"y\"] = y\n",
    "df.drop(0, axis=1)"
   ]
  },
  {
   "cell_type": "code",
   "execution_count": null,
   "metadata": {},
   "outputs": [],
   "source": []
  }
 ],
 "metadata": {
  "kernelspec": {
   "display_name": "Python 3",
   "language": "python",
   "name": "python3"
  },
  "language_info": {
   "codemirror_mode": {
    "name": "ipython",
    "version": 3
   },
   "file_extension": ".py",
   "mimetype": "text/x-python",
   "name": "python",
   "nbconvert_exporter": "python",
   "pygments_lexer": "ipython3",
   "version": "3.7.6"
  }
 },
 "nbformat": 4,
 "nbformat_minor": 2
}
